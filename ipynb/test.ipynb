{
 "cells": [
  {
   "cell_type": "code",
   "execution_count": 5,
   "id": "97c507b5-1a85-4c5d-980a-dcba877a0817",
   "metadata": {},
   "outputs": [],
   "source": [
    "import datetime"
   ]
  },
  {
   "cell_type": "markdown",
   "id": "0367ecbb-73c3-4c60-a7d1-1d1f56343bf0",
   "metadata": {},
   "source": [
    "# ceshi"
   ]
  },
  {
   "cell_type": "code",
   "execution_count": null,
   "id": "b787b28d-6603-46ce-b2d0-f4c26c943c56",
   "metadata": {},
   "outputs": [],
   "source": [
    "print(\"hello\")"
   ]
  },
  {
   "cell_type": "code",
   "execution_count": 11,
   "id": "d3140940-2177-4486-9fba-d09b4123b7ea",
   "metadata": {},
   "outputs": [],
   "source": [
    "data = [[3, 4, 3, 5], [1, 5, 0, 8], [2, 9, 2, 0]]"
   ]
  },
  {
   "cell_type": "code",
   "execution_count": 12,
   "id": "5549d2aa-78c7-40d6-883d-97a142281505",
   "metadata": {},
   "outputs": [
    {
     "data": {
      "text/plain": [
       "[[3, 4, 3, 5], [1, 5, 0, 8], [2, 9, 2, 0]]"
      ]
     },
     "execution_count": 12,
     "metadata": {},
     "output_type": "execute_result"
    }
   ],
   "source": [
    "data"
   ]
  },
  {
   "cell_type": "code",
   "execution_count": null,
   "id": "db4bbfff-e7ba-4a12-b7e5-01db77555974",
   "metadata": {},
   "outputs": [],
   "source": []
  }
 ],
 "metadata": {
  "kernelspec": {
   "display_name": "Python 3 (ipykernel)",
   "language": "python",
   "name": "python3"
  },
  "language_info": {
   "codemirror_mode": {
    "name": "ipython",
    "version": 3
   },
   "file_extension": ".py",
   "mimetype": "text/x-python",
   "name": "python",
   "nbconvert_exporter": "python",
   "pygments_lexer": "ipython3",
   "version": "3.10.11"
  }
 },
 "nbformat": 4,
 "nbformat_minor": 5
}
