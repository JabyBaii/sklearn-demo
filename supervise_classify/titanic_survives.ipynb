{
 "cells": [
  {
   "cell_type": "markdown",
   "metadata": {},
   "source": [
    "# 决策树"
   ]
  },
  {
   "cell_type": "code",
   "execution_count": 2,
   "metadata": {},
   "outputs": [],
   "source": [
    "import pandas as pd"
   ]
  },
  {
   "cell_type": "code",
   "execution_count": 3,
   "metadata": {},
   "outputs": [],
   "source": [
    "# 1、获取数据\n",
    "titanic = pd.read_csv(\"../data_ml/titanic.csv\")"
   ]
  },
  {
   "cell_type": "code",
   "execution_count": 4,
   "metadata": {},
   "outputs": [
    {
     "data": {
      "text/html": [
       "<div>\n",
       "<style scoped>\n",
       "    .dataframe tbody tr th:only-of-type {\n",
       "        vertical-align: middle;\n",
       "    }\n",
       "\n",
       "    .dataframe tbody tr th {\n",
       "        vertical-align: top;\n",
       "    }\n",
       "\n",
       "    .dataframe thead th {\n",
       "        text-align: right;\n",
       "    }\n",
       "</style>\n",
       "<table border=\"1\" class=\"dataframe\">\n",
       "  <thead>\n",
       "    <tr style=\"text-align: right;\">\n",
       "      <th></th>\n",
       "      <th>row.names</th>\n",
       "      <th>pclass</th>\n",
       "      <th>survived</th>\n",
       "      <th>name</th>\n",
       "      <th>age</th>\n",
       "      <th>embarked</th>\n",
       "      <th>home.dest</th>\n",
       "      <th>room</th>\n",
       "      <th>ticket</th>\n",
       "      <th>boat</th>\n",
       "      <th>sex</th>\n",
       "    </tr>\n",
       "  </thead>\n",
       "  <tbody>\n",
       "    <tr>\n",
       "      <th>0</th>\n",
       "      <td>1</td>\n",
       "      <td>1st</td>\n",
       "      <td>1</td>\n",
       "      <td>Allen, Miss Elisabeth Walton</td>\n",
       "      <td>29.0000</td>\n",
       "      <td>Southampton</td>\n",
       "      <td>St Louis, MO</td>\n",
       "      <td>B-5</td>\n",
       "      <td>24160 L221</td>\n",
       "      <td>2</td>\n",
       "      <td>female</td>\n",
       "    </tr>\n",
       "    <tr>\n",
       "      <th>1</th>\n",
       "      <td>2</td>\n",
       "      <td>1st</td>\n",
       "      <td>0</td>\n",
       "      <td>Allison, Miss Helen Loraine</td>\n",
       "      <td>2.0000</td>\n",
       "      <td>Southampton</td>\n",
       "      <td>Montreal, PQ / Chesterville, ON</td>\n",
       "      <td>C26</td>\n",
       "      <td>NaN</td>\n",
       "      <td>NaN</td>\n",
       "      <td>female</td>\n",
       "    </tr>\n",
       "    <tr>\n",
       "      <th>2</th>\n",
       "      <td>3</td>\n",
       "      <td>1st</td>\n",
       "      <td>0</td>\n",
       "      <td>Allison, Mr Hudson Joshua Creighton</td>\n",
       "      <td>30.0000</td>\n",
       "      <td>Southampton</td>\n",
       "      <td>Montreal, PQ / Chesterville, ON</td>\n",
       "      <td>C26</td>\n",
       "      <td>NaN</td>\n",
       "      <td>(135)</td>\n",
       "      <td>male</td>\n",
       "    </tr>\n",
       "    <tr>\n",
       "      <th>3</th>\n",
       "      <td>4</td>\n",
       "      <td>1st</td>\n",
       "      <td>0</td>\n",
       "      <td>Allison, Mrs Hudson J.C. (Bessie Waldo Daniels)</td>\n",
       "      <td>25.0000</td>\n",
       "      <td>Southampton</td>\n",
       "      <td>Montreal, PQ / Chesterville, ON</td>\n",
       "      <td>C26</td>\n",
       "      <td>NaN</td>\n",
       "      <td>NaN</td>\n",
       "      <td>female</td>\n",
       "    </tr>\n",
       "    <tr>\n",
       "      <th>4</th>\n",
       "      <td>5</td>\n",
       "      <td>1st</td>\n",
       "      <td>1</td>\n",
       "      <td>Allison, Master Hudson Trevor</td>\n",
       "      <td>0.9167</td>\n",
       "      <td>Southampton</td>\n",
       "      <td>Montreal, PQ / Chesterville, ON</td>\n",
       "      <td>C22</td>\n",
       "      <td>NaN</td>\n",
       "      <td>11</td>\n",
       "      <td>male</td>\n",
       "    </tr>\n",
       "  </tbody>\n",
       "</table>\n",
       "</div>"
      ],
      "text/plain": [
       "   row.names pclass  survived  \\\n",
       "0          1    1st         1   \n",
       "1          2    1st         0   \n",
       "2          3    1st         0   \n",
       "3          4    1st         0   \n",
       "4          5    1st         1   \n",
       "\n",
       "                                              name      age     embarked  \\\n",
       "0                     Allen, Miss Elisabeth Walton  29.0000  Southampton   \n",
       "1                      Allison, Miss Helen Loraine   2.0000  Southampton   \n",
       "2              Allison, Mr Hudson Joshua Creighton  30.0000  Southampton   \n",
       "3  Allison, Mrs Hudson J.C. (Bessie Waldo Daniels)  25.0000  Southampton   \n",
       "4                    Allison, Master Hudson Trevor   0.9167  Southampton   \n",
       "\n",
       "                         home.dest room      ticket   boat     sex  \n",
       "0                     St Louis, MO  B-5  24160 L221      2  female  \n",
       "1  Montreal, PQ / Chesterville, ON  C26         NaN    NaN  female  \n",
       "2  Montreal, PQ / Chesterville, ON  C26         NaN  (135)    male  \n",
       "3  Montreal, PQ / Chesterville, ON  C26         NaN    NaN  female  \n",
       "4  Montreal, PQ / Chesterville, ON  C22         NaN     11    male  "
      ]
     },
     "execution_count": 4,
     "metadata": {},
     "output_type": "execute_result"
    }
   ],
   "source": [
    "titanic.head()"
   ]
  },
  {
   "cell_type": "code",
   "execution_count": 5,
   "metadata": {},
   "outputs": [],
   "source": [
    "# 筛选特征值和目标值\n",
    "x = titanic[[\"pclass\", \"age\", \"sex\"]]\n",
    "y = titanic[\"survived\"]"
   ]
  },
  {
   "cell_type": "code",
   "execution_count": 7,
   "metadata": {},
   "outputs": [
    {
     "data": {
      "text/html": [
       "<div>\n",
       "<style scoped>\n",
       "    .dataframe tbody tr th:only-of-type {\n",
       "        vertical-align: middle;\n",
       "    }\n",
       "\n",
       "    .dataframe tbody tr th {\n",
       "        vertical-align: top;\n",
       "    }\n",
       "\n",
       "    .dataframe thead th {\n",
       "        text-align: right;\n",
       "    }\n",
       "</style>\n",
       "<table border=\"1\" class=\"dataframe\">\n",
       "  <thead>\n",
       "    <tr style=\"text-align: right;\">\n",
       "      <th></th>\n",
       "      <th>pclass</th>\n",
       "      <th>age</th>\n",
       "      <th>sex</th>\n",
       "    </tr>\n",
       "  </thead>\n",
       "  <tbody>\n",
       "    <tr>\n",
       "      <th>1308</th>\n",
       "      <td>3rd</td>\n",
       "      <td>NaN</td>\n",
       "      <td>male</td>\n",
       "    </tr>\n",
       "    <tr>\n",
       "      <th>1309</th>\n",
       "      <td>3rd</td>\n",
       "      <td>NaN</td>\n",
       "      <td>male</td>\n",
       "    </tr>\n",
       "    <tr>\n",
       "      <th>1310</th>\n",
       "      <td>3rd</td>\n",
       "      <td>NaN</td>\n",
       "      <td>male</td>\n",
       "    </tr>\n",
       "    <tr>\n",
       "      <th>1311</th>\n",
       "      <td>3rd</td>\n",
       "      <td>NaN</td>\n",
       "      <td>female</td>\n",
       "    </tr>\n",
       "    <tr>\n",
       "      <th>1312</th>\n",
       "      <td>3rd</td>\n",
       "      <td>NaN</td>\n",
       "      <td>male</td>\n",
       "    </tr>\n",
       "  </tbody>\n",
       "</table>\n",
       "</div>"
      ],
      "text/plain": [
       "     pclass  age     sex\n",
       "1308    3rd  NaN    male\n",
       "1309    3rd  NaN    male\n",
       "1310    3rd  NaN    male\n",
       "1311    3rd  NaN  female\n",
       "1312    3rd  NaN    male"
      ]
     },
     "execution_count": 7,
     "metadata": {},
     "output_type": "execute_result"
    }
   ],
   "source": [
    "x.tail()"
   ]
  },
  {
   "cell_type": "code",
   "execution_count": 8,
   "metadata": {},
   "outputs": [
    {
     "data": {
      "text/plain": [
       "0    1\n",
       "1    0\n",
       "2    0\n",
       "3    0\n",
       "4    1\n",
       "Name: survived, dtype: int64"
      ]
     },
     "execution_count": 8,
     "metadata": {},
     "output_type": "execute_result"
    }
   ],
   "source": [
    "y.head()"
   ]
  },
  {
   "cell_type": "code",
   "execution_count": 10,
   "metadata": {},
   "outputs": [
    {
     "name": "stderr",
     "output_type": "stream",
     "text": [
      "C:\\Users\\jaby0\\AppData\\Local\\Temp\\ipykernel_26384\\2577152713.py:3: SettingWithCopyWarning: \n",
      "A value is trying to be set on a copy of a slice from a DataFrame\n",
      "\n",
      "See the caveats in the documentation: https://pandas.pydata.org/pandas-docs/stable/user_guide/indexing.html#returning-a-view-versus-a-copy\n",
      "  x[\"age\"].fillna(x[\"age\"].mean(), inplace=True)\n"
     ]
    }
   ],
   "source": [
    "# 2、数据处理\n",
    "# 1）缺失值处理\n",
    "x[\"age\"].fillna(x[\"age\"].mean(), inplace=True)"
   ]
  },
  {
   "cell_type": "code",
   "execution_count": 11,
   "metadata": {},
   "outputs": [],
   "source": [
    "# 2) 转换成字典\n",
    "x = x.to_dict(orient=\"records\")"
   ]
  },
  {
   "cell_type": "code",
   "execution_count": 16,
   "metadata": {},
   "outputs": [
    {
     "data": {
      "text/plain": [
       "[{'pclass': '1st', 'age': 29.0, 'sex': 'female'},\n",
       " {'pclass': '1st', 'age': 2.0, 'sex': 'female'},\n",
       " {'pclass': '1st', 'age': 30.0, 'sex': 'male'},\n",
       " {'pclass': '1st', 'age': 25.0, 'sex': 'female'},\n",
       " {'pclass': '1st', 'age': 0.9167, 'sex': 'male'},\n",
       " {'pclass': '1st', 'age': 47.0, 'sex': 'male'},\n",
       " {'pclass': '1st', 'age': 63.0, 'sex': 'female'},\n",
       " {'pclass': '1st', 'age': 39.0, 'sex': 'male'},\n",
       " {'pclass': '1st', 'age': 58.0, 'sex': 'female'},\n",
       " {'pclass': '1st', 'age': 71.0, 'sex': 'male'}]"
      ]
     },
     "execution_count": 16,
     "metadata": {},
     "output_type": "execute_result"
    }
   ],
   "source": [
    "x[:10]"
   ]
  },
  {
   "cell_type": "code",
   "execution_count": 17,
   "metadata": {},
   "outputs": [],
   "source": [
    "from sklearn.model_selection import train_test_split\n",
    "# 3、数据集划分\n",
    "x_train, x_test, y_train, y_test = train_test_split(x, y, random_state=22)"
   ]
  },
  {
   "cell_type": "code",
   "execution_count": 18,
   "metadata": {},
   "outputs": [],
   "source": [
    "# 4、字典特征抽取\n",
    "from sklearn.feature_extraction import DictVectorizer\n",
    "from sklearn.tree import DecisionTreeClassifier, export_graphviz"
   ]
  },
  {
   "cell_type": "code",
   "execution_count": 19,
   "metadata": {},
   "outputs": [],
   "source": [
    "transfer = DictVectorizer()\n",
    "x_train = transfer.fit_transform(x_train)\n",
    "x_test = transfer.transform(x_test)"
   ]
  },
  {
   "cell_type": "code",
   "execution_count": 21,
   "metadata": {},
   "outputs": [
    {
     "name": "stdout",
     "output_type": "stream",
     "text": [
      "y_predict:\n",
      " [0 0 0 0 1 1 1 0 0 1 0 1 0 0 0 0 0 0 0 0 0 0 0 0 1 0 0 0 1 1 0 1 0 1 0 0 0\n",
      " 0 0 0 0 0 0 0 0 0 1 1 0 1 0 1 0 0 0 0 0 1 0 0 0 0 0 0 0 0 0 1 0 0 1 0 0 0\n",
      " 0 1 0 0 0 1 0 1 0 0 0 0 0 0 0 0 0 0 0 1 0 1 0 1 0 1 0 0 0 0 0 0 0 0 0 0 1\n",
      " 0 1 0 0 0 0 0 0 0 0 0 1 0 0 1 1 0 1 0 0 0 0 0 0 0 0 0 0 0 1 1 0 0 0 0 1 1\n",
      " 1 0 0 0 0 0 0 0 1 0 0 0 0 0 1 1 0 1 0 0 0 0 1 0 0 0 0 0 1 1 1 1 0 0 0 0 0\n",
      " 0 0 0 1 1 1 0 0 0 0 1 1 1 0 0 0 0 0 0 0 0 0 1 0 0 0 0 0 1 1 0 0 0 0 0 1 0\n",
      " 0 0 1 0 0 0 0 0 0 1 0 0 0 0 1 0 1 0 0 0 1 0 0 1 0 0 0 0 1 0 1 0 0 0 0 1 0\n",
      " 0 1 1 1 0 0 1 1 1 0 1 0 0 0 0 0 0 0 1 0 0 0 0 0 0 0 0 0 0 0 1 0 0 0 0 1 1\n",
      " 0 0 0 1 0 0 0 0 0 0 0 0 0 0 0 0 0 1 0 0 0 0 0 0 1 1 0 1 0 0 0 0 1]\n",
      "直接比对真实值和预测值:\n",
      " 831      True\n",
      "261      True\n",
      "1210     True\n",
      "1155     True\n",
      "255      True\n",
      "        ...  \n",
      "1146     True\n",
      "1125    False\n",
      "386      True\n",
      "1025    False\n",
      "337      True\n",
      "Name: survived, Length: 329, dtype: bool\n",
      "准确率为：\n",
      " 0.7811550151975684\n"
     ]
    }
   ],
   "source": [
    "# 3）决策树预估器\n",
    "estimator = DecisionTreeClassifier(criterion=\"entropy\", max_depth=8)\n",
    "estimator.fit(x_train, y_train)\n",
    "\n",
    "# 4）模型评估\n",
    "# 方法1：直接比对真实值和预测值\n",
    "y_predict = estimator.predict(x_test)\n",
    "print(\"y_predict:\\n\", y_predict)\n",
    "print(\"直接比对真实值和预测值:\\n\", y_test == y_predict)\n",
    "\n",
    "# 方法2：计算准确率\n",
    "score = estimator.score(x_test, y_test)\n",
    "print(\"准确率为：\\n\", score)"
   ]
  },
  {
   "cell_type": "code",
   "execution_count": 23,
   "metadata": {},
   "outputs": [],
   "source": [
    "# 可视化决策树\n",
    "export_graphviz(estimator, out_file=\"titanic_tree.dot\", feature_names=transfer.get_feature_names_out())"
   ]
  },
  {
   "cell_type": "markdown",
   "metadata": {},
   "source": [
    "### 随机森林对泰坦尼克号乘客的生存进行预测"
   ]
  },
  {
   "cell_type": "code",
   "execution_count": 24,
   "metadata": {},
   "outputs": [],
   "source": [
    "from sklearn.ensemble import RandomForestClassifier\n",
    "from sklearn.model_selection import GridSearchCV"
   ]
  },
  {
   "cell_type": "code",
   "execution_count": 25,
   "metadata": {},
   "outputs": [
    {
     "name": "stdout",
     "output_type": "stream",
     "text": [
      "y_predict:\n",
      " [0 0 0 0 1 1 1 0 0 1 0 0 0 0 0 0 0 0 0 0 0 0 0 0 1 0 0 0 1 1 0 1 0 1 0 0 0\n",
      " 0 0 0 0 0 0 0 0 0 1 1 0 1 0 0 0 0 0 0 0 0 0 0 0 0 0 0 0 0 0 1 0 0 1 0 0 0\n",
      " 0 1 0 0 0 1 0 1 0 0 0 0 0 0 0 0 0 0 0 1 0 1 0 1 0 1 0 0 0 0 0 0 0 0 0 0 1\n",
      " 0 1 0 0 0 0 0 0 0 0 0 1 0 0 1 1 0 1 0 0 0 0 0 0 0 0 0 0 0 1 1 0 0 0 0 1 1\n",
      " 1 0 0 0 0 0 0 0 0 0 0 0 0 0 1 1 0 1 0 0 0 0 1 0 0 0 0 0 1 1 1 1 0 0 0 0 0\n",
      " 0 0 0 1 1 1 0 0 0 0 1 1 1 0 0 0 0 0 0 0 0 0 1 0 0 0 0 0 1 1 0 0 0 0 0 1 0\n",
      " 0 0 1 0 0 0 0 0 0 1 0 0 0 0 1 0 1 0 0 0 1 0 0 1 0 0 0 0 1 0 1 0 0 0 0 1 0\n",
      " 0 1 1 1 0 0 1 1 1 0 1 0 0 0 0 0 0 0 1 0 0 0 0 0 0 0 0 0 0 0 1 0 0 0 0 1 1\n",
      " 0 0 0 1 0 0 0 0 0 0 0 0 0 0 0 0 0 1 0 0 0 0 0 0 1 1 0 1 0 0 0 0 1]\n",
      "直接比对真实值和预测值:\n",
      " 831      True\n",
      "261      True\n",
      "1210     True\n",
      "1155     True\n",
      "255      True\n",
      "        ...  \n",
      "1146     True\n",
      "1125    False\n",
      "386      True\n",
      "1025    False\n",
      "337      True\n",
      "Name: survived, Length: 329, dtype: bool\n",
      "准确率为：\n",
      " 0.7872340425531915\n",
      "最佳参数：\n",
      " {'max_depth': 5, 'n_estimators': 120}\n",
      "最佳结果：\n",
      " 0.8353658536585366\n",
      "最佳估计器:\n",
      " RandomForestClassifier(max_depth=5, n_estimators=120)\n",
      "交叉验证结果:\n",
      " {'mean_fit_time': array([0.1615599 , 0.30373359, 0.40731915, 0.64639886, 1.0635852 ,\n",
      "       1.59262506, 0.17658528, 0.30426947, 0.42802056, 0.73896305,\n",
      "       1.18833256, 1.80983845, 0.19213978, 0.32092404, 0.48228264,\n",
      "       0.80985705, 1.22842471, 1.87975852, 0.19751954, 0.31399552,\n",
      "       0.47090387, 0.78279185, 1.26204443, 1.84485769, 0.199675  ,\n",
      "       0.32950195, 0.49050196, 0.78030467, 1.24520739, 1.8916448 ]), 'std_fit_time': array([0.00112281, 0.06845182, 0.01160721, 0.0054207 , 0.02229928,\n",
      "       0.0155009 , 0.00259593, 0.01271525, 0.01320429, 0.0241132 ,\n",
      "       0.00638107, 0.03315298, 0.01437181, 0.00411348, 0.01004441,\n",
      "       0.02600315, 0.05098874, 0.05140801, 0.01274226, 0.01543471,\n",
      "       0.00717086, 0.01238073, 0.02043744, 0.04942801, 0.00710765,\n",
      "       0.01218804, 0.02468155, 0.0306117 , 0.03386595, 0.06245718]), 'mean_score_time': array([0.00736554, 0.01133752, 0.01748665, 0.02437504, 0.04324547,\n",
      "       0.06498575, 0.00796882, 0.01255012, 0.01851058, 0.03117998,\n",
      "       0.04708505, 0.06957173, 0.00836595, 0.01390878, 0.02054826,\n",
      "       0.03150821, 0.04761958, 0.07117693, 0.00898234, 0.01306121,\n",
      "       0.01764576, 0.03456465, 0.04881064, 0.07028627, 0.00864943,\n",
      "       0.01368825, 0.01813769, 0.03055763, 0.04787397, 0.07113417]), 'std_score_time': array([6.42230510e-04, 2.55278726e-04, 1.26827680e-03, 4.80438681e-03,\n",
      "       9.03601117e-04, 6.18238454e-04, 6.30074505e-04, 5.71432520e-05,\n",
      "       5.02608871e-04, 1.63869514e-03, 1.08603075e-03, 1.46854242e-03,\n",
      "       2.72451161e-04, 3.90809693e-04, 2.44684242e-03, 7.99847678e-04,\n",
      "       5.70678099e-04, 2.24119897e-03, 4.02190276e-04, 3.31568009e-04,\n",
      "       2.22797960e-03, 6.05115309e-03, 1.96135814e-03, 4.97251922e-04,\n",
      "       2.47797651e-04, 3.09109317e-04, 5.77195672e-04, 4.41155598e-04,\n",
      "       9.67950558e-04, 1.57515341e-03]), 'param_max_depth': masked_array(data=[5, 5, 5, 5, 5, 5, 8, 8, 8, 8, 8, 8, 15, 15, 15, 15, 15,\n",
      "                   15, 25, 25, 25, 25, 25, 25, 30, 30, 30, 30, 30, 30],\n",
      "             mask=[False, False, False, False, False, False, False, False,\n",
      "                   False, False, False, False, False, False, False, False,\n",
      "                   False, False, False, False, False, False, False, False,\n",
      "                   False, False, False, False, False, False],\n",
      "       fill_value=999999), 'param_n_estimators': masked_array(data=[120, 200, 300, 500, 800, 1200, 120, 200, 300, 500, 800,\n",
      "                   1200, 120, 200, 300, 500, 800, 1200, 120, 200, 300,\n",
      "                   500, 800, 1200, 120, 200, 300, 500, 800, 1200],\n",
      "             mask=[False, False, False, False, False, False, False, False,\n",
      "                   False, False, False, False, False, False, False, False,\n",
      "                   False, False, False, False, False, False, False, False,\n",
      "                   False, False, False, False, False, False],\n",
      "       fill_value=999999), 'params': [{'max_depth': 5, 'n_estimators': 120}, {'max_depth': 5, 'n_estimators': 200}, {'max_depth': 5, 'n_estimators': 300}, {'max_depth': 5, 'n_estimators': 500}, {'max_depth': 5, 'n_estimators': 800}, {'max_depth': 5, 'n_estimators': 1200}, {'max_depth': 8, 'n_estimators': 120}, {'max_depth': 8, 'n_estimators': 200}, {'max_depth': 8, 'n_estimators': 300}, {'max_depth': 8, 'n_estimators': 500}, {'max_depth': 8, 'n_estimators': 800}, {'max_depth': 8, 'n_estimators': 1200}, {'max_depth': 15, 'n_estimators': 120}, {'max_depth': 15, 'n_estimators': 200}, {'max_depth': 15, 'n_estimators': 300}, {'max_depth': 15, 'n_estimators': 500}, {'max_depth': 15, 'n_estimators': 800}, {'max_depth': 15, 'n_estimators': 1200}, {'max_depth': 25, 'n_estimators': 120}, {'max_depth': 25, 'n_estimators': 200}, {'max_depth': 25, 'n_estimators': 300}, {'max_depth': 25, 'n_estimators': 500}, {'max_depth': 25, 'n_estimators': 800}, {'max_depth': 25, 'n_estimators': 1200}, {'max_depth': 30, 'n_estimators': 120}, {'max_depth': 30, 'n_estimators': 200}, {'max_depth': 30, 'n_estimators': 300}, {'max_depth': 30, 'n_estimators': 500}, {'max_depth': 30, 'n_estimators': 800}, {'max_depth': 30, 'n_estimators': 1200}], 'split0_test_score': array([0.82926829, 0.82621951, 0.82926829, 0.82621951, 0.82621951,\n",
      "       0.82621951, 0.81097561, 0.80182927, 0.81402439, 0.79878049,\n",
      "       0.81707317, 0.80487805, 0.79878049, 0.79268293, 0.79268293,\n",
      "       0.79878049, 0.80182927, 0.79268293, 0.79573171, 0.79878049,\n",
      "       0.79573171, 0.80182927, 0.79268293, 0.79573171, 0.80487805,\n",
      "       0.80182927, 0.79268293, 0.79268293, 0.80182927, 0.79268293]), 'split1_test_score': array([0.85060976, 0.85060976, 0.85060976, 0.85060976, 0.85060976,\n",
      "       0.85060976, 0.8445122 , 0.85365854, 0.84756098, 0.85060976,\n",
      "       0.85365854, 0.85365854, 0.84146341, 0.84146341, 0.85365854,\n",
      "       0.84756098, 0.85365854, 0.85365854, 0.85060976, 0.85670732,\n",
      "       0.85060976, 0.85060976, 0.85060976, 0.85670732, 0.85670732,\n",
      "       0.8445122 , 0.84146341, 0.85365854, 0.8445122 , 0.85060976]), 'split2_test_score': array([0.82621951, 0.82621951, 0.82317073, 0.82621951, 0.82317073,\n",
      "       0.82621951, 0.79878049, 0.80487805, 0.80182927, 0.80182927,\n",
      "       0.80182927, 0.80182927, 0.80182927, 0.80487805, 0.80487805,\n",
      "       0.80182927, 0.80487805, 0.80487805, 0.80182927, 0.80792683,\n",
      "       0.79573171, 0.80182927, 0.80182927, 0.80182927, 0.79878049,\n",
      "       0.80182927, 0.80487805, 0.80182927, 0.80487805, 0.80487805]), 'mean_test_score': array([0.83536585, 0.83434959, 0.83434959, 0.83434959, 0.83333333,\n",
      "       0.83434959, 0.81808943, 0.82012195, 0.82113821, 0.81707317,\n",
      "       0.82418699, 0.82012195, 0.81402439, 0.81300813, 0.81707317,\n",
      "       0.81605691, 0.82012195, 0.81707317, 0.81605691, 0.82113821,\n",
      "       0.81402439, 0.81808943, 0.81504065, 0.81808943, 0.82012195,\n",
      "       0.81605691, 0.81300813, 0.81605691, 0.81707317, 0.81605691]), 'std_test_score': array([0.01085069, 0.01149767, 0.01176406, 0.01149767, 0.01227952,\n",
      "       0.01149767, 0.01933567, 0.02374659, 0.01933567, 0.02374659,\n",
      "       0.02174892, 0.02374659, 0.0194422 , 0.02072772, 0.02634447,\n",
      "       0.02231148, 0.02374659, 0.02634447, 0.02455904, 0.02542682,\n",
      "       0.02586976, 0.02299534, 0.02542682, 0.0274202 , 0.02598925,\n",
      "       0.02012092, 0.02072772, 0.02684928, 0.0194422 , 0.02493464]), 'rank_test_score': array([ 1,  2,  2,  2,  6,  2, 14, 10,  8, 17,  7, 10, 28, 29, 17, 21, 10,\n",
      "       17, 21,  8, 27, 14, 26, 14, 10, 21, 29, 21, 17, 21])}\n"
     ]
    }
   ],
   "source": [
    "estimator = RandomForestClassifier()\n",
    "# 加入网格搜索与交叉验证\n",
    "# 参数准备\n",
    "param_dict = {\"n_estimators\": [120,200,300,500,800,1200], \"max_depth\": [5,8,15,25,30]}\n",
    "estimator = GridSearchCV(estimator, param_grid=param_dict, cv=3)\n",
    "estimator.fit(x_train, y_train)\n",
    "\n",
    "# 5）模型评估\n",
    "# 方法1：直接比对真实值和预测值\n",
    "y_predict = estimator.predict(x_test)\n",
    "print(\"y_predict:\\n\", y_predict)\n",
    "print(\"直接比对真实值和预测值:\\n\", y_test == y_predict)\n",
    "\n",
    "# 方法2：计算准确率\n",
    "score = estimator.score(x_test, y_test)\n",
    "print(\"准确率为：\\n\", score)\n",
    "\n",
    "# 最佳参数：best_params_\n",
    "print(\"最佳参数：\\n\", estimator.best_params_)\n",
    "# 最佳结果：best_score_\n",
    "print(\"最佳结果：\\n\", estimator.best_score_)\n",
    "# 最佳估计器：best_estimator_\n",
    "print(\"最佳估计器:\\n\", estimator.best_estimator_)\n",
    "# 交叉验证结果：cv_results_\n",
    "print(\"交叉验证结果:\\n\", estimator.cv_results_)"
   ]
  },
  {
   "cell_type": "code",
   "execution_count": null,
   "metadata": {},
   "outputs": [],
   "source": []
  }
 ],
 "metadata": {
  "kernelspec": {
   "display_name": "Python 3 (ipykernel)",
   "language": "python",
   "name": "python3"
  },
  "language_info": {
   "codemirror_mode": {
    "name": "ipython",
    "version": 3
   },
   "file_extension": ".py",
   "mimetype": "text/x-python",
   "name": "python",
   "nbconvert_exporter": "python",
   "pygments_lexer": "ipython3",
   "version": "3.10.11"
  }
 },
 "nbformat": 4,
 "nbformat_minor": 4
}
